{
 "cells": [
  {
   "cell_type": "markdown",
   "metadata": {},
   "source": [
    "## Use arithmetic operators\n",
    "Arithmetic operators such as addition, subtraction, division, and multiplication will be used. "
   ]
  },
  {
   "cell_type": "code",
   "execution_count": 2,
   "metadata": {},
   "outputs": [],
   "source": [
    "# create variables of the two planets \n",
    "\n",
    "planetOne = 149597870\n",
    "planetTwo = 778547200"
   ]
  },
  {
   "cell_type": "code",
   "execution_count": 4,
   "metadata": {},
   "outputs": [
    {
     "name": "stdout",
     "output_type": "stream",
     "text": [
      "628949330 km\n",
      "390577533.93 miles\n"
     ]
    }
   ],
   "source": [
    "# Calcular la distancia entre planetas\n",
    "\n",
    "distanceKm= planetTwo - planetOne\n",
    "print(str(distanceKm) + \" km\")\n",
    "\n",
    "distanceMi = distanceKm * 0.621\n",
    "print(str(distanceMi) + \" miles\")"
   ]
  }
 ],
 "metadata": {
  "interpreter": {
   "hash": "e43c2028508ec96d243f55f806c362707f3e4f5d58917adc8354780d4ddbdcd6"
  },
  "kernelspec": {
   "display_name": "Python 3.10.2 64-bit (windows store)",
   "language": "python",
   "name": "python3"
  },
  "language_info": {
   "codemirror_mode": {
    "name": "ipython",
    "version": 3
   },
   "file_extension": ".py",
   "mimetype": "text/x-python",
   "name": "python",
   "nbconvert_exporter": "python",
   "pygments_lexer": "ipython3",
   "version": "3.10.2"
  },
  "orig_nbformat": 4
 },
 "nbformat": 4,
 "nbformat_minor": 2
}
