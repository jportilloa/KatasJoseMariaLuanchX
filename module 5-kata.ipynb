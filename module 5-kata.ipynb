{
 "cells": [
  {
   "cell_type": "markdown",
   "metadata": {},
   "source": [
    "## Use arithmetic operators\n",
    "Arithmetic operators such as addition, subtraction, division, and multiplication will be used. "
   ]
  },
  {
   "cell_type": "code",
   "execution_count": 2,
   "metadata": {},
   "outputs": [],
   "source": [
    "# create variables of the two planets \n",
    "\n",
    "planetOne = 149597870\n",
    "planetTwo = 778547200"
   ]
  },
  {
   "cell_type": "code",
   "execution_count": 4,
   "metadata": {},
   "outputs": [
    {
     "name": "stdout",
     "output_type": "stream",
     "text": [
      "628949330 km\n",
      "390577533.93 miles\n"
     ]
    }
   ],
   "source": [
    "# Calculate the distance between planets\n",
    "\n",
    "distanceKm= planetTwo - planetOne\n",
    "print(str(distanceKm) + \" km\")\n",
    "\n",
    "distanceMi = distanceKm * 0.621\n",
    "print(str(distanceMi) + \" miles\")"
   ]
  },
  {
   "cell_type": "markdown",
   "metadata": {},
   "source": [
    "## Convert strings to numbers and use absolute values\n",
    "Convert string values to numbers to correctly perform different operations or determine the absolute value of a number."
   ]
  },
  {
   "cell_type": "code",
   "execution_count": 3,
   "metadata": {},
   "outputs": [],
   "source": [
    "# Almacenar la entrada del usuario\n",
    "firstPlanet = input('Enter the distance from the sun for the first planet in KM ')\n",
    "secondPlanet = input('Enter the distance from the sun for the second planet in KM ')"
   ]
  },
  {
   "cell_type": "code",
   "execution_count": 4,
   "metadata": {},
   "outputs": [],
   "source": [
    "# Convert the strings of both planets to integers\n",
    "firstPlanet = int(firstPlanet)\n",
    "secondPlanet = int(secondPlanet)"
   ]
  },
  {
   "cell_type": "code",
   "execution_count": 5,
   "metadata": {},
   "outputs": [
    {
     "name": "stdout",
     "output_type": "stream",
     "text": [
      "-323326600 KM\n",
      "200785818.6\n"
     ]
    }
   ],
   "source": [
    "# Perform the calculation and determine the absolute value. \n",
    "distanceKm = secondPlanet - firstPlanet\n",
    "print(str(distanceKm) + \" KM\")\n",
    "\n",
    "# Convert from Kilometers to Miles \n",
    "distanceMi = distanceKm * 0.621\n",
    "print(abs(distanceMi))"
   ]
  }
 ],
 "metadata": {
  "interpreter": {
   "hash": "e43c2028508ec96d243f55f806c362707f3e4f5d58917adc8354780d4ddbdcd6"
  },
  "kernelspec": {
   "display_name": "Python 3.10.2 64-bit (windows store)",
   "language": "python",
   "name": "python3"
  },
  "language_info": {
   "codemirror_mode": {
    "name": "ipython",
    "version": 3
   },
   "file_extension": ".py",
   "mimetype": "text/x-python",
   "name": "python",
   "nbconvert_exporter": "python",
   "pygments_lexer": "ipython3",
   "version": "3.10.2"
  },
  "orig_nbformat": 4
 },
 "nbformat": 4,
 "nbformat_minor": 2
}
