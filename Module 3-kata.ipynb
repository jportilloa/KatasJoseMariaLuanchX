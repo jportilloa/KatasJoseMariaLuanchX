{
 "cells": [
  {
   "cell_type": "markdown",
   "metadata": {},
   "source": [
    "## If, else and elseif exercise\n",
    "An asteroid speed is entered into the program and a warning is issued."
   ]
  },
  {
   "cell_type": "code",
   "execution_count": 5,
   "metadata": {},
   "outputs": [
    {
     "name": "stdout",
     "output_type": "stream",
     "text": [
      "Warning! The asteroid is coming at high speed.\n"
     ]
    }
   ],
   "source": [
    "# Add the necessary code to create a variable that stores the speed of the asteroid.\n",
    "# Write a test expression to calculate if it needs a warning.\n",
    "# Add the statements that will be executed if the test expression is true or false.\n",
    "\n",
    "speedAsteroid = input(\"Enter the speed of the asteroid\")\n",
    "\n",
    "if int(speedAsteroid) > 25:\n",
    "    print(\"Warning! The asteroid is coming at high speed.\")\n",
    "else:\n",
    "    print(\"The asteroid is coming at low speed \")"
   ]
  },
  {
   "cell_type": "code",
   "execution_count": 7,
   "metadata": {},
   "outputs": [
    {
     "name": "stdout",
     "output_type": "stream",
     "text": [
      "You can see the light in the sky.\n"
     ]
    }
   ],
   "source": [
    "# Add the code to create a variable for an asteroid traveling at 19 km/s\n",
    "# Write several test expressions to determine if you can see the beam of light from the ground\n",
    "# Add the statements that will be executed if the test expressions are True or False\n",
    "\n",
    "speedAsteroid = input(\"Enter the speed of the asteroid\")\n",
    "\n",
    "if int(speedAsteroid) > 20:\n",
    "    print(\"You can see the light in the sky.\")\n",
    "elif int(speedAsteroid) == 20:\n",
    "    print(\"You can see the light in the sky. \")\n",
    "else:\n",
    "    print(\"you can't see the light.\")"
   ]
  },
  {
   "cell_type": "markdown",
   "metadata": {},
   "source": [
    "## Use of AND and OR operators\n",
    "An asteroid speed is entered into the program and a warning is issued."
   ]
  },
  {
   "cell_type": "code",
   "execution_count": 6,
   "metadata": {},
   "outputs": [
    {
     "name": "stdout",
     "output_type": "stream",
     "text": [
      "Warning, an asteroid is approaching the earth.\n"
     ]
    }
   ],
   "source": [
    "# Add the code to create new variables for the speed and size of the asteroid\n",
    "# To test the code, try various speeds and sizes\n",
    "# Write various test expressions or combinations of test expressions to determine which message should be sent to Earth.\n",
    "\n",
    "speedAsteroid = input(\"Enter the speed of the asteroid\")\n",
    "sizeAsteroid = input(\"Enter the size of the asteroid\")\n",
    "if int(speedAsteroid) > 25 and int(sizeAsteroid) > 25 and int(sizeAsteroid) <= 1000:\n",
    "    print(\"Warning, an asteroid is approaching the earth.\")\n",
    "elif int(speedAsteroid) >= 20:\n",
    "    print(\"You can see the light in the sky\")\n",
    "elif int(sizeAsteroid) < 25:\n",
    "    print(\"There's nothing to see\")\n",
    "else:\n",
    "    print(\"There's nothing to see\")"
   ]
  }
 ],
 "metadata": {
  "interpreter": {
   "hash": "e43c2028508ec96d243f55f806c362707f3e4f5d58917adc8354780d4ddbdcd6"
  },
  "kernelspec": {
   "display_name": "Python 3.10.2 64-bit (windows store)",
   "language": "python",
   "name": "python3"
  },
  "language_info": {
   "codemirror_mode": {
    "name": "ipython",
    "version": 3
   },
   "file_extension": ".py",
   "mimetype": "text/x-python",
   "name": "python",
   "nbconvert_exporter": "python",
   "pygments_lexer": "ipython3",
   "version": "3.10.2"
  },
  "orig_nbformat": 4
 },
 "nbformat": 4,
 "nbformat_minor": 2
}
