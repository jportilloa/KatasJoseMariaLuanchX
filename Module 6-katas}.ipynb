{
 "cells": [
  {
   "cell_type": "markdown",
   "metadata": {},
   "source": [
    "## Create and use Python lists \n",
    "Lists allow you to store multiple values in a single variable. You will begin a project on planetary information by creating a list of planets."
   ]
  },
  {
   "cell_type": "code",
   "execution_count": 1,
   "metadata": {},
   "outputs": [
    {
     "name": "stdout",
     "output_type": "stream",
     "text": [
      "There are 8 planets\n"
     ]
    }
   ],
   "source": [
    "# Planets list\n",
    "planetList = ['Mercury', 'Venus', 'Earth', 'Mars', 'Jupiter', 'Saturn', 'Uranus', 'Neptune']\n",
    "\n",
    "print('There are', len(planetList), 'planets')"
   ]
  },
  {
   "cell_type": "code",
   "execution_count": 3,
   "metadata": {},
   "outputs": [
    {
     "name": "stdout",
     "output_type": "stream",
     "text": [
      "Pluto is the last planet\n"
     ]
    }
   ],
   "source": [
    "# Add pluto and show the last element\n",
    "planetList.append('Pluto')\n",
    "\n",
    "print(planetList[-1], 'is the last planet')"
   ]
  },
  {
   "cell_type": "markdown",
   "metadata": {},
   "source": [
    "## Working with data from a list \n",
    "You may need to work with different sections of a list. In our example, we want to display planets closer to and farther from the sun than a planet the user enters via keyboard. "
   ]
  },
  {
   "cell_type": "code",
   "execution_count": 12,
   "metadata": {},
   "outputs": [],
   "source": [
    "# We will use the list from the last exercise.\n",
    "# We request the name of a planet \n",
    "planet = input('Enter the name of the planet (with a capital letter to start) ')"
   ]
  },
  {
   "cell_type": "code",
   "execution_count": 16,
   "metadata": {},
   "outputs": [
    {
     "name": "stdout",
     "output_type": "stream",
     "text": [
      "The planet is located Earth in the position  3 in the solar system\n"
     ]
    }
   ],
   "source": [
    "# Find the planet in the list \n",
    "planetSearch = planet in planetList\n",
    "if planetSearch :\n",
    "   index = planetList.index(planet)\n",
    "   print(\"The planet is located\", planet  ,\"in the position \", str(index + 1) , \"in the solar system\")\n",
    "else : \n",
    "     print(\"The planet is located\", planet ,\"is not in the solar system\")"
   ]
  },
  {
   "cell_type": "code",
   "execution_count": 17,
   "metadata": {},
   "outputs": [
    {
     "name": "stdout",
     "output_type": "stream",
     "text": [
      "Here are the planets closer than Earth\n",
      "['Mercury', 'Venus']\n"
     ]
    }
   ],
   "source": [
    "# Show the planets closest to the sun \n",
    "\n",
    "print('Here are the planets closer than ' + planet)\n",
    "print(planetList[0:index])"
   ]
  },
  {
   "cell_type": "code",
   "execution_count": 18,
   "metadata": {},
   "outputs": [
    {
     "name": "stdout",
     "output_type": "stream",
     "text": [
      "Here are the planets further than Earth\n",
      "['Mars', 'Jupiter', 'Saturn', 'Uranus', 'Neptune', 'Pluto', 'Pluto']\n"
     ]
    }
   ],
   "source": [
    "# Show the planets farthest from the sun \n",
    "\n",
    "print('Here are the planets further than ' + planet)\n",
    "print(planetList[index + 1:])"
   ]
  }
 ],
 "metadata": {
  "interpreter": {
   "hash": "e43c2028508ec96d243f55f806c362707f3e4f5d58917adc8354780d4ddbdcd6"
  },
  "kernelspec": {
   "display_name": "Python 3.10.2 64-bit (windows store)",
   "language": "python",
   "name": "python3"
  },
  "language_info": {
   "codemirror_mode": {
    "name": "ipython",
    "version": 3
   },
   "file_extension": ".py",
   "mimetype": "text/x-python",
   "name": "python",
   "nbconvert_exporter": "python",
   "pygments_lexer": "ipython3",
   "version": "3.10.2"
  },
  "orig_nbformat": 4
 },
 "nbformat": 4,
 "nbformat_minor": 2
}
