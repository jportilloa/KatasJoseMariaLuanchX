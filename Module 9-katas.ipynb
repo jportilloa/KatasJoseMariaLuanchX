{
 "cells": [
  {
   "cell_type": "markdown",
   "metadata": {},
   "source": [
    "## Using functions in Python\n",
    "Required arguments to functions are used when functions require those arguments to work properly. In this exercise, you will build a fuel report that requires information from various fuel locations throughout the rocket.\n",
    "\n",
    "Start by creating a function that takes three fuel readings and returns a report:"
   ]
  },
  {
   "cell_type": "code",
   "execution_count": 2,
   "metadata": {},
   "outputs": [],
   "source": [
    "# Function to read 3 fuel tanks and show the average\n",
    "\n",
    "def generateReport(mainTank, externalTank, hydrogenTank):\n",
    "    totalAverage = (mainTank + externalTank + hydrogenTank) / 3\n",
    "    return f\"\"\"Fuel Report:\n",
    "    Total Average: {totalAverage}%\n",
    "    Main tank: {mainTank}%\n",
    "    External tank: {externalTank}%\n",
    "    Hydrogen tank: {hydrogenTank}% \n",
    "    \"\"\""
   ]
  },
  {
   "cell_type": "code",
   "execution_count": 3,
   "metadata": {},
   "outputs": [
    {
     "name": "stdout",
     "output_type": "stream",
     "text": [
      "Fuel Report:\n",
      "    Total Average: 78.33333333333333%\n",
      "    Main tank: 80%\n",
      "    External tank: 70%\n",
      "    Hydrogen tank: 85% \n",
      "    \n"
     ]
    }
   ],
   "source": [
    "# We call the function that generates the report print(function(tank1, tank2, tank3))\n",
    "print(generateReport(80, 70, 85))"
   ]
  },
  {
   "cell_type": "code",
   "execution_count": 5,
   "metadata": {},
   "outputs": [
    {
     "data": {
      "text/plain": [
       "82.0"
      ]
     },
     "execution_count": 5,
     "metadata": {},
     "output_type": "execute_result"
    }
   ],
   "source": [
    "# average function\n",
    "def average(values):    \n",
    "    return sum(values) / len(values)\n",
    "\n",
    "# Test the averaging function with a list of integers:\n",
    "average([80, 85, 81]) "
   ]
  }
 ],
 "metadata": {
  "interpreter": {
   "hash": "e43c2028508ec96d243f55f806c362707f3e4f5d58917adc8354780d4ddbdcd6"
  },
  "kernelspec": {
   "display_name": "Python 3.10.2 64-bit (windows store)",
   "language": "python",
   "name": "python3"
  },
  "language_info": {
   "codemirror_mode": {
    "name": "ipython",
    "version": 3
   },
   "file_extension": ".py",
   "mimetype": "text/x-python",
   "name": "python",
   "nbconvert_exporter": "python",
   "pygments_lexer": "ipython3",
   "version": "3.10.2"
  },
  "orig_nbformat": 4
 },
 "nbformat": 4,
 "nbformat_minor": 2
}
