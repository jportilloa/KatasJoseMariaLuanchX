{
 "cells": [
  {
   "cell_type": "markdown",
   "metadata": {},
   "source": [
    "## Creating a \"while\" loop\n",
    "Using while loops in Python \n",
    "\n",
    "In Python, while loops allow you to execute code an unknown number of times. Loops examine a Boolean condition, and as long as the condition is true, the code inside the loop will be executed. This is very useful for situations like requesting values from a user.\n",
    "\n",
    "In this exercise, you are creating an application that prompts a user to enter a list of planets. In a later exercise, you will add code that displays the list. For now, you will create only the code that prompts the user for the list of planets. \n"
   ]
  },
  {
   "cell_type": "code",
   "execution_count": 1,
   "metadata": {},
   "outputs": [],
   "source": [
    "# declare two variables\n",
    "newPlanet = ''\n",
    "planetList = []\n"
   ]
  },
  {
   "cell_type": "markdown",
   "metadata": {},
   "source": [
    "## Create a while loop\n",
    "Starting with the variables you just created, you will create a while loop. The while loop will execute as long as the new_planet is not equal to the word 'done'.\n",
    "\n",
    "Inside the loop, you will check if the variable new_planet contains a value, which should be the name of a planet. This is a quick way to see if the user has entered a value. If they have, your code will append that value to the planets variable.\n",
    "\n",
    "Finally, you'll use input to prompt the user to enter a new planet name, or to type done if they're done entering planet names. It will store the input value in the new_planet variable. "
   ]
  },
  {
   "cell_type": "code",
   "execution_count": 3,
   "metadata": {},
   "outputs": [],
   "source": [
    "# Write the requested while loop\n",
    "\n",
    "while newPlanet.lower() != 'done':\n",
    "    if newPlanet:\n",
    "        planetList.append(newPlanet)\n",
    "    newPlanet = input('Enter a new planet ')"
   ]
  },
  {
   "cell_type": "markdown",
   "metadata": {},
   "source": [
    "## Creating a \"for\" loop \n",
    "In the previous exercise, you created code to prompt users to enter a list of planet names. In this exercise, you will complete the application by writing code that displays the names of these planets.\n",
    "\n",
    "Show the list of planets\n",
    "The planets variable stores the planet names that a user has entered. You will now use a loop to display those inputs.\n",
    "\n",
    "Create a for loop to iterate over the planets list. You can use as the name of the planet variable for each planet. Inside the for loop, remember to use print to display each planet."
   ]
  },
  {
   "cell_type": "code",
   "execution_count": 4,
   "metadata": {},
   "outputs": [
    {
     "name": "stdout",
     "output_type": "stream",
     "text": [
      "Earth\n",
      "Earth\n"
     ]
    }
   ],
   "source": [
    "# Write your for loop to iterate over a list of planets\n",
    "for planet in planetList:\n",
    "    print(planet)"
   ]
  }
 ],
 "metadata": {
  "interpreter": {
   "hash": "e43c2028508ec96d243f55f806c362707f3e4f5d58917adc8354780d4ddbdcd6"
  },
  "kernelspec": {
   "display_name": "Python 3.10.2 64-bit (windows store)",
   "language": "python",
   "name": "python3"
  },
  "language_info": {
   "codemirror_mode": {
    "name": "ipython",
    "version": 3
   },
   "file_extension": ".py",
   "mimetype": "text/x-python",
   "name": "python",
   "nbconvert_exporter": "python",
   "pygments_lexer": "ipython3",
   "version": "3.10.2"
  },
  "orig_nbformat": 4
 },
 "nbformat": 4,
 "nbformat_minor": 2
}
